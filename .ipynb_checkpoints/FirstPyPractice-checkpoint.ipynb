{
 "cells": [
  {
   "cell_type": "code",
   "execution_count": 6,
   "id": "f28f5729-3f06-4293-87c5-9cfb1c781e07",
   "metadata": {
    "tags": []
   },
   "outputs": [
    {
     "name": "stdin",
     "output_type": "stream",
     "text": [
      "Enter an integer:  24\n",
      "Enter a float:  5.2\n"
     ]
    }
   ],
   "source": [
    "# Assigning an Integer, a Float, a Boolean and a String\n",
    "int_var = 42\n",
    "float_var = 3.14159\n",
    "bool_var = True\n",
    "str_var = \"Test string\"\n",
    "user_int = int(input(\"Enter an integer: \"))\n",
    "user_float = float(input(\"Enter a float: \"))"
   ]
  },
  {
   "cell_type": "code",
   "execution_count": 7,
   "id": "c7579818-c8d6-415c-87e6-c2d0baf0d230",
   "metadata": {
    "tags": []
   },
   "outputs": [
    {
     "name": "stdout",
     "output_type": "stream",
     "text": [
      "66\n",
      "16.336268\n"
     ]
    }
   ],
   "source": [
    "# Do some calculations\n",
    "sum_of_ints = int_var + user_int\n",
    "product_of_floats = float_var * user_float\n",
    "print(sum_of_ints)\n",
    "print(product_of_floats)"
   ]
  },
  {
   "cell_type": "code",
   "execution_count": 9,
   "id": "a970b562-69ae-47eb-80ae-7f07530e1561",
   "metadata": {
    "tags": []
   },
   "outputs": [
    {
     "name": "stdout",
     "output_type": "stream",
     "text": [
      "Complex sum:  50.2\n",
      "Sum of converted string and input integer:  25\n"
     ]
    }
   ],
   "source": [
    "# Some conversions\n",
    "float_int_var = float(int_var)         # Convert int to float\n",
    "int_float_var = int(float_var)         # Convert float to int\n",
    "str_to_int = int(\"123\")               # Convert string to int\n",
    "int_bool_var = int(bool_var)           # Convert bool to int (True = 1, False = 0)\n",
    "\n",
    "# More calculations with conversions\n",
    "complex_sum = float_int_var + user_float + int_float_var\n",
    "converted_sum = int_bool_var + user_int\n",
    "\n",
    "print(\"Complex sum: \", complex_sum)\n",
    "print(\"Sum of converted string and input integer: \", converted_sum)\n"
   ]
  },
  {
   "cell_type": "code",
   "execution_count": 11,
   "id": "48467b5d-24de-4e53-9523-e9c2f62d949b",
   "metadata": {
    "tags": []
   },
   "outputs": [
    {
     "name": "stdin",
     "output_type": "stream",
     "text": [
      "Enter something to append to my_list:  False\n"
     ]
    },
    {
     "name": "stdout",
     "output_type": "stream",
     "text": [
      "[1, 2, 3, 'Python', 5.5, 'False']\n"
     ]
    }
   ],
   "source": [
    "# Advanced data types\n",
    "my_list = [1, 2, 3, \"Python\", 5.5]     # List\n",
    "my_tuple = (10, 20, \"tuple\", 40.0)     # Tuples are immutable\n",
    "\n",
    "user_to_list = input(\"Enter something to append to my_list: \")\n",
    "my_list.append(user_to_list)\n",
    "print(my_list)\n",
    "my_list.remove(user_to_list)"
   ]
  },
  {
   "cell_type": "code",
   "execution_count": 12,
   "id": "047c8895-7535-44bd-b183-97962a8a3f3a",
   "metadata": {
    "tags": []
   },
   "outputs": [
    {
     "name": "stdout",
     "output_type": "stream",
     "text": [
      "[1, 2, 3, 'Python', 5.5]\n"
     ]
    }
   ],
   "source": [
    "print(my_list)    # user_to_list is not in the list now"
   ]
  },
  {
   "cell_type": "code",
   "execution_count": null,
   "id": "8acb31cc-1e49-47ef-8096-5daceb4cb729",
   "metadata": {},
   "outputs": [],
   "source": []
  }
 ],
 "metadata": {
  "kernelspec": {
   "display_name": "Python 3 (ipykernel)",
   "language": "python",
   "name": "python3"
  },
  "language_info": {
   "codemirror_mode": {
    "name": "ipython",
    "version": 3
   },
   "file_extension": ".py",
   "mimetype": "text/x-python",
   "name": "python",
   "nbconvert_exporter": "python",
   "pygments_lexer": "ipython3",
   "version": "3.10.9"
  }
 },
 "nbformat": 4,
 "nbformat_minor": 5
}
