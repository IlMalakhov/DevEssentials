{
 "cells": [
  {
   "cell_type": "code",
   "execution_count": 2,
   "id": "3af09ee0-a890-47ba-9850-b5d82e7ea287",
   "metadata": {
    "tags": []
   },
   "outputs": [],
   "source": [
    "%load_ext sql"
   ]
  },
  {
   "cell_type": "code",
   "execution_count": 3,
   "id": "a6f7002d-5531-4d17-b898-338b0c9923df",
   "metadata": {
    "tags": []
   },
   "outputs": [
    {
     "name": "stdout",
     "output_type": "stream",
     "text": [
      "4 rows affected.\n"
     ]
    },
    {
     "data": {
      "text/html": [
       "<table>\n",
       "    <thead>\n",
       "        <tr>\n",
       "            <th>oid</th>\n",
       "            <th>datname</th>\n",
       "            <th>datdba</th>\n",
       "            <th>encoding</th>\n",
       "            <th>datcollate</th>\n",
       "            <th>datctype</th>\n",
       "            <th>datistemplate</th>\n",
       "            <th>datallowconn</th>\n",
       "            <th>datconnlimit</th>\n",
       "            <th>datlastsysoid</th>\n",
       "            <th>datfrozenxid</th>\n",
       "            <th>datminmxid</th>\n",
       "            <th>dattablespace</th>\n",
       "            <th>datacl</th>\n",
       "        </tr>\n",
       "    </thead>\n",
       "    <tbody>\n",
       "        <tr>\n",
       "            <td>13761</td>\n",
       "            <td>postgres</td>\n",
       "            <td>10</td>\n",
       "            <td>6</td>\n",
       "            <td>C.UTF-8</td>\n",
       "            <td>C.UTF-8</td>\n",
       "            <td>False</td>\n",
       "            <td>True</td>\n",
       "            <td>-1</td>\n",
       "            <td>13760</td>\n",
       "            <td>726</td>\n",
       "            <td>1</td>\n",
       "            <td>1663</td>\n",
       "            <td>None</td>\n",
       "        </tr>\n",
       "        <tr>\n",
       "            <td>16385</td>\n",
       "            <td>jovyan</td>\n",
       "            <td>10</td>\n",
       "            <td>6</td>\n",
       "            <td>C.UTF-8</td>\n",
       "            <td>C.UTF-8</td>\n",
       "            <td>False</td>\n",
       "            <td>True</td>\n",
       "            <td>-1</td>\n",
       "            <td>13760</td>\n",
       "            <td>726</td>\n",
       "            <td>1</td>\n",
       "            <td>1663</td>\n",
       "            <td>None</td>\n",
       "        </tr>\n",
       "        <tr>\n",
       "            <td>1</td>\n",
       "            <td>template1</td>\n",
       "            <td>10</td>\n",
       "            <td>6</td>\n",
       "            <td>C.UTF-8</td>\n",
       "            <td>C.UTF-8</td>\n",
       "            <td>True</td>\n",
       "            <td>True</td>\n",
       "            <td>-1</td>\n",
       "            <td>13760</td>\n",
       "            <td>726</td>\n",
       "            <td>1</td>\n",
       "            <td>1663</td>\n",
       "            <td>{=c/postgres,postgres=CTc/postgres}</td>\n",
       "        </tr>\n",
       "        <tr>\n",
       "            <td>13760</td>\n",
       "            <td>template0</td>\n",
       "            <td>10</td>\n",
       "            <td>6</td>\n",
       "            <td>C.UTF-8</td>\n",
       "            <td>C.UTF-8</td>\n",
       "            <td>True</td>\n",
       "            <td>False</td>\n",
       "            <td>-1</td>\n",
       "            <td>13760</td>\n",
       "            <td>726</td>\n",
       "            <td>1</td>\n",
       "            <td>1663</td>\n",
       "            <td>{=c/postgres,postgres=CTc/postgres}</td>\n",
       "        </tr>\n",
       "    </tbody>\n",
       "</table>"
      ],
      "text/plain": [
       "[(13761, 'postgres', 10, 6, 'C.UTF-8', 'C.UTF-8', False, True, -1, 13760, '726', '1', 1663, None),\n",
       " (16385, 'jovyan', 10, 6, 'C.UTF-8', 'C.UTF-8', False, True, -1, 13760, '726', '1', 1663, None),\n",
       " (1, 'template1', 10, 6, 'C.UTF-8', 'C.UTF-8', True, True, -1, 13760, '726', '1', 1663, '{=c/postgres,postgres=CTc/postgres}'),\n",
       " (13760, 'template0', 10, 6, 'C.UTF-8', 'C.UTF-8', True, False, -1, 13760, '726', '1', 1663, '{=c/postgres,postgres=CTc/postgres}')]"
      ]
     },
     "execution_count": 3,
     "metadata": {},
     "output_type": "execute_result"
    }
   ],
   "source": [
    "%%sql postgresql:///jovyan\n",
    "    SELECT * FROM pg_database"
   ]
  },
  {
   "cell_type": "markdown",
   "id": "5e39dc86-4726-44d1-8c54-8bbe4c4fab42",
   "metadata": {},
   "source": [
    "# Create the tables"
   ]
  },
  {
   "cell_type": "code",
   "execution_count": 4,
   "id": "ec9f5304-bda8-4427-a271-e172abb4d27e",
   "metadata": {},
   "outputs": [
    {
     "name": "stdout",
     "output_type": "stream",
     "text": [
      "Done.\n",
      "12 rows affected.\n"
     ]
    },
    {
     "data": {
      "text/plain": [
       "[]"
      ]
     },
     "execution_count": 4,
     "metadata": {},
     "output_type": "execute_result"
    }
   ],
   "source": [
    "%%sql postgresql:///jovyan\n",
    "\n",
    "CREATE TABLE Employees (\n",
    "    EMPLOYEE_ID INT PRIMARY KEY,\n",
    "    FIRST_NAME VARCHAR(30),\n",
    "    LAST_NAME VARCHAR(30),\n",
    "    HIRE_DATE DATE,\n",
    "    JOB_ID VARCHAR(20),\n",
    "    MANAGER_ID INT,\n",
    "    DEPARTMENT_ID SMALLINT\n",
    ");\n",
    "\n",
    "INSERT INTO Employees (EMPLOYEE_ID, FIRST_NAME, LAST_NAME, HIRE_DATE, JOB_ID, MANAGER_ID, DEPARTMENT_ID) VALUES\n",
    "(100, 'Steven', 'King', '1987-06-17', 'AD_PRES', 0, 90),\n",
    "(101, 'Neena', 'Kochhar', '1987-06-18', 'AD_VP', 100, 90),\n",
    "(102, 'Lex', 'DeHaan', '1987-06-19', 'AD_VP', 100, 90),\n",
    "(103, 'Alexander', 'Hunold', '1987-06-20', 'IT_PROG', 102, 60),\n",
    "(107, 'Diana', 'Lorentz', '1987-06-24', 'IT_PROG', 103, 60),\n",
    "(108, 'Nancy', 'Greenberg', '1987-06-25', 'FI_MGR', 101, 100),\n",
    "(109, 'Daniel', 'Faviet', '1987-06-26', 'FI_ACCOUNT', 108, 100),\n",
    "(114, 'Den', 'Raphaely', '1987-07-01', 'PU_MAN', 100, 30),\n",
    "(118, 'Guy', 'Himuro', '1987-07-05', 'PU_CLERK', 114, 30),\n",
    "(144, 'Peter', 'Vargas', '1987-07-31', 'ST_CLERK', 114, 50),\n",
    "(145, 'John', 'Russell', '1987-08-01', 'SA_MAN', 100, 80),\n",
    "(146, 'Karen', 'Partners', '1987-08-02', 'SA_MAN', 100, 80);\n"
   ]
  },
  {
   "cell_type": "code",
   "execution_count": 5,
   "id": "135cbbd8-2008-466d-ae45-a9dc3fbb86fa",
   "metadata": {
    "tags": []
   },
   "outputs": [
    {
     "name": "stdout",
     "output_type": "stream",
     "text": [
      "Done.\n",
      "10 rows affected.\n"
     ]
    },
    {
     "data": {
      "text/plain": [
       "[]"
      ]
     },
     "execution_count": 5,
     "metadata": {},
     "output_type": "execute_result"
    }
   ],
   "source": [
    "%%sql postgresql:///jovyan\n",
    "\n",
    "CREATE TABLE Departments (\n",
    "    DEPARTMENT_ID SMALLINT PRIMARY KEY,\n",
    "    DEPARTMENT_NAME VARCHAR(50),\n",
    "    MANAGER_ID INT\n",
    ");\n",
    "\n",
    "INSERT INTO Departments (DEPARTMENT_ID, DEPARTMENT_NAME, MANAGER_ID) VALUES\n",
    "(10, 'Administration', 200),\n",
    "(30, 'Purchasing', 114),\n",
    "(40, 'HumanResources', 203),\n",
    "(50, 'Shipping', 121),\n",
    "(60, 'IT', 103),\n",
    "(70, 'PublicRelations', 204),\n",
    "(80, 'Sales', 145),\n",
    "(90, 'Executive', 100),\n",
    "(100, 'Finance', 108),\n",
    "(110, 'Accounting', 205);\n"
   ]
  },
  {
   "cell_type": "markdown",
   "id": "28abf1fc-69a2-45a4-adeb-7dbfa4619d35",
   "metadata": {},
   "source": [
    "# Write a query which returns a grid: Department name, Manager Name and Number of employees working in each department. Order the output by Department name"
   ]
  },
  {
   "cell_type": "code",
   "execution_count": 16,
   "id": "3d288570-416d-48d6-b4a4-f91ce294c846",
   "metadata": {
    "tags": []
   },
   "outputs": [
    {
     "name": "stdout",
     "output_type": "stream",
     "text": [
      "5 rows affected.\n"
     ]
    },
    {
     "data": {
      "text/html": [
       "<table>\n",
       "    <thead>\n",
       "        <tr>\n",
       "            <th>department_name</th>\n",
       "            <th>manager_name</th>\n",
       "            <th>manager_surname</th>\n",
       "            <th>employee_number</th>\n",
       "        </tr>\n",
       "    </thead>\n",
       "    <tbody>\n",
       "        <tr>\n",
       "            <td>Executive</td>\n",
       "            <td>Steven</td>\n",
       "            <td>King</td>\n",
       "            <td>3</td>\n",
       "        </tr>\n",
       "        <tr>\n",
       "            <td>Finance</td>\n",
       "            <td>Nancy</td>\n",
       "            <td>Greenberg</td>\n",
       "            <td>2</td>\n",
       "        </tr>\n",
       "        <tr>\n",
       "            <td>IT</td>\n",
       "            <td>Alexander</td>\n",
       "            <td>Hunold</td>\n",
       "            <td>2</td>\n",
       "        </tr>\n",
       "        <tr>\n",
       "            <td>Purchasing</td>\n",
       "            <td>Den</td>\n",
       "            <td>Raphaely</td>\n",
       "            <td>2</td>\n",
       "        </tr>\n",
       "        <tr>\n",
       "            <td>Sales</td>\n",
       "            <td>John</td>\n",
       "            <td>Russell</td>\n",
       "            <td>2</td>\n",
       "        </tr>\n",
       "    </tbody>\n",
       "</table>"
      ],
      "text/plain": [
       "[('Executive', 'Steven', 'King', 3),\n",
       " ('Finance', 'Nancy', 'Greenberg', 2),\n",
       " ('IT', 'Alexander', 'Hunold', 2),\n",
       " ('Purchasing', 'Den', 'Raphaely', 2),\n",
       " ('Sales', 'John', 'Russell', 2)]"
      ]
     },
     "execution_count": 16,
     "metadata": {},
     "output_type": "execute_result"
    }
   ],
   "source": [
    "%%sql postgresql:///jovyan\n",
    "\n",
    "SELECT \n",
    "    d.department_name, \n",
    "    m.first_name AS manager_name, m.last_name AS manager_surname,\n",
    "    COUNT(e.employee_id) AS employee_number\n",
    "FROM \n",
    "    Departments d\n",
    "JOIN \n",
    "    Employees e ON d.department_id = e.department_id\n",
    "JOIN \n",
    "    Employees m ON d.manager_id = m.employee_id\n",
    "GROUP BY \n",
    "    d.department_name, m.first_name, m.last_name\n",
    "ORDER BY \n",
    "d.department_name"
   ]
  },
  {
   "cell_type": "markdown",
   "id": "b3fd6032-793b-4703-946a-218270de3ba3",
   "metadata": {},
   "source": [
    "# Conclusion\n",
    "- Without aliases the query would be too cumbersome to read and understand\n",
    "- I didn't do the tasks quick enough because I forgot bash syntax, really glad I have my homework tables prepared"
   ]
  }
 ],
 "metadata": {
  "kernelspec": {
   "display_name": "Python 3 (ipykernel)",
   "language": "python",
   "name": "python3"
  },
  "language_info": {
   "codemirror_mode": {
    "name": "ipython",
    "version": 3
   },
   "file_extension": ".py",
   "mimetype": "text/x-python",
   "name": "python",
   "nbconvert_exporter": "python",
   "pygments_lexer": "ipython3",
   "version": "3.10.8"
  }
 },
 "nbformat": 4,
 "nbformat_minor": 5
}
