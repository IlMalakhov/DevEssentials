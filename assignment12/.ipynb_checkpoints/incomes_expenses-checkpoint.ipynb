{
 "cells": [
  {
   "cell_type": "code",
   "execution_count": 1,
   "id": "c21a1e10-c013-4ce1-b930-e2e3fc2a81f6",
   "metadata": {
    "tags": []
   },
   "outputs": [],
   "source": [
    "import numpy as np\n",
    "import pandas as pd"
   ]
  },
  {
   "cell_type": "code",
   "execution_count": 2,
   "id": "219c49c4-c7fd-4f30-a8cd-7f4750ec0ede",
   "metadata": {
    "tags": []
   },
   "outputs": [],
   "source": [
    "incomes = [0, 0, 3, 120, 403, 1009, 20199, 19200, 50125, 90263]\n",
    "expenses = [20000, 20000, 40000, 40000, 50000, 90000, 100000, 120000, 120000, 150000]\n",
    "months = ['Jan', 'Feb', 'Mar', 'Apr', 'May', 'Jun', 'Jul', 'Aug', 'Sep', 'Oct']"
   ]
  },
  {
   "cell_type": "markdown",
   "id": "052f9470-1df1-47cf-9317-2f7739b3f3f4",
   "metadata": {},
   "source": [
    "# Converting data to NumPy arrays\n",
    "Could also have used `np.around(np_incomes_taxed, 2)` to make `np_incomes_taxed` human-readable right away"
   ]
  },
  {
   "cell_type": "code",
   "execution_count": 3,
   "id": "4976498a-776b-4556-bcaa-933a4328b185",
   "metadata": {
    "tags": []
   },
   "outputs": [
    {
     "data": {
      "text/plain": [
       "(array([    0,     0,     3,   120,   403,  1009, 20199, 19200, 50125,\n",
       "        90263]),\n",
       " array([0.00000e+00, 0.00000e+00, 2.10000e+00, 8.40000e+01, 2.82100e+02,\n",
       "        7.06300e+02, 1.41393e+04, 1.34400e+04, 3.50875e+04, 6.31841e+04]),\n",
       " array([ 20000,  20000,  40000,  40000,  50000,  90000, 100000, 120000,\n",
       "        120000, 150000]))"
      ]
     },
     "execution_count": 3,
     "metadata": {},
     "output_type": "execute_result"
    }
   ],
   "source": [
    "np_incomes = np.array(incomes)\n",
    "np_incomes_taxed = np_incomes * 0.7\n",
    "np_expenses = np.array(expenses)\n",
    "np_incomes, np_incomes_taxed, np_expenses"
   ]
  },
  {
   "cell_type": "markdown",
   "id": "1c0743b2-bf38-4c6f-950f-9c6fca6dedeb",
   "metadata": {},
   "source": [
    "# Creating a DataFrame\n",
    "- Prepare data in advance using a dictionary\n",
    "- Now I can use months as indices for a clearer output"
   ]
  },
  {
   "cell_type": "code",
   "execution_count": 4,
   "id": "17593739-d7f6-4332-ab94-f205e6f7e895",
   "metadata": {
    "tags": []
   },
   "outputs": [
    {
     "data": {
      "text/html": [
       "<div>\n",
       "<style scoped>\n",
       "    .dataframe tbody tr th:only-of-type {\n",
       "        vertical-align: middle;\n",
       "    }\n",
       "\n",
       "    .dataframe tbody tr th {\n",
       "        vertical-align: top;\n",
       "    }\n",
       "\n",
       "    .dataframe thead th {\n",
       "        text-align: right;\n",
       "    }\n",
       "</style>\n",
       "<table border=\"1\" class=\"dataframe\">\n",
       "  <thead>\n",
       "    <tr style=\"text-align: right;\">\n",
       "      <th></th>\n",
       "      <th>Taxed Incomes</th>\n",
       "      <th>Expenses</th>\n",
       "    </tr>\n",
       "  </thead>\n",
       "  <tbody>\n",
       "    <tr>\n",
       "      <th>Jan</th>\n",
       "      <td>0.0</td>\n",
       "      <td>20000</td>\n",
       "    </tr>\n",
       "    <tr>\n",
       "      <th>Feb</th>\n",
       "      <td>0.0</td>\n",
       "      <td>20000</td>\n",
       "    </tr>\n",
       "    <tr>\n",
       "      <th>Mar</th>\n",
       "      <td>2.1</td>\n",
       "      <td>40000</td>\n",
       "    </tr>\n",
       "    <tr>\n",
       "      <th>Apr</th>\n",
       "      <td>84.0</td>\n",
       "      <td>40000</td>\n",
       "    </tr>\n",
       "    <tr>\n",
       "      <th>May</th>\n",
       "      <td>282.1</td>\n",
       "      <td>50000</td>\n",
       "    </tr>\n",
       "    <tr>\n",
       "      <th>Jun</th>\n",
       "      <td>706.3</td>\n",
       "      <td>90000</td>\n",
       "    </tr>\n",
       "    <tr>\n",
       "      <th>Jul</th>\n",
       "      <td>14139.3</td>\n",
       "      <td>100000</td>\n",
       "    </tr>\n",
       "    <tr>\n",
       "      <th>Aug</th>\n",
       "      <td>13440.0</td>\n",
       "      <td>120000</td>\n",
       "    </tr>\n",
       "    <tr>\n",
       "      <th>Sep</th>\n",
       "      <td>35087.5</td>\n",
       "      <td>120000</td>\n",
       "    </tr>\n",
       "    <tr>\n",
       "      <th>Oct</th>\n",
       "      <td>63184.1</td>\n",
       "      <td>150000</td>\n",
       "    </tr>\n",
       "  </tbody>\n",
       "</table>\n",
       "</div>"
      ],
      "text/plain": [
       "     Taxed Incomes  Expenses\n",
       "Jan            0.0     20000\n",
       "Feb            0.0     20000\n",
       "Mar            2.1     40000\n",
       "Apr           84.0     40000\n",
       "May          282.1     50000\n",
       "Jun          706.3     90000\n",
       "Jul        14139.3    100000\n",
       "Aug        13440.0    120000\n",
       "Sep        35087.5    120000\n",
       "Oct        63184.1    150000"
      ]
     },
     "execution_count": 4,
     "metadata": {},
     "output_type": "execute_result"
    }
   ],
   "source": [
    "df_data_dict = {\n",
    "    'Taxed Incomes' : np_incomes_taxed,\n",
    "    'Expenses' : np_expenses\n",
    "}\n",
    "df_income_expenses = pd.DataFrame(df_data_dict, months)\n",
    "df_income_expenses"
   ]
  },
  {
   "cell_type": "markdown",
   "id": "442f8bdc-38ce-4b83-aec7-600b4a488b4e",
   "metadata": {},
   "source": [
    "## First quarter"
   ]
  },
  {
   "cell_type": "code",
   "execution_count": 5,
   "id": "07e38aad-1b04-48b1-acb9-6fe11520b2c1",
   "metadata": {
    "tags": []
   },
   "outputs": [
    {
     "data": {
      "text/html": [
       "<div>\n",
       "<style scoped>\n",
       "    .dataframe tbody tr th:only-of-type {\n",
       "        vertical-align: middle;\n",
       "    }\n",
       "\n",
       "    .dataframe tbody tr th {\n",
       "        vertical-align: top;\n",
       "    }\n",
       "\n",
       "    .dataframe thead th {\n",
       "        text-align: right;\n",
       "    }\n",
       "</style>\n",
       "<table border=\"1\" class=\"dataframe\">\n",
       "  <thead>\n",
       "    <tr style=\"text-align: right;\">\n",
       "      <th></th>\n",
       "      <th>Taxed Incomes</th>\n",
       "      <th>Expenses</th>\n",
       "    </tr>\n",
       "  </thead>\n",
       "  <tbody>\n",
       "    <tr>\n",
       "      <th>Jan</th>\n",
       "      <td>0.0</td>\n",
       "      <td>20000</td>\n",
       "    </tr>\n",
       "    <tr>\n",
       "      <th>Feb</th>\n",
       "      <td>0.0</td>\n",
       "      <td>20000</td>\n",
       "    </tr>\n",
       "    <tr>\n",
       "      <th>Mar</th>\n",
       "      <td>2.1</td>\n",
       "      <td>40000</td>\n",
       "    </tr>\n",
       "  </tbody>\n",
       "</table>\n",
       "</div>"
      ],
      "text/plain": [
       "     Taxed Incomes  Expenses\n",
       "Jan            0.0     20000\n",
       "Feb            0.0     20000\n",
       "Mar            2.1     40000"
      ]
     },
     "execution_count": 5,
     "metadata": {},
     "output_type": "execute_result"
    }
   ],
   "source": [
    "first_quarter = df_income_expenses.loc['Jan':'Mar']\n",
    "first_quarter"
   ]
  },
  {
   "cell_type": "markdown",
   "id": "af2f248d-e992-4c27-bbb7-8a8c244e11dd",
   "metadata": {},
   "source": [
    "# Conclusions:\n",
    "- I think it could be useful to leave the indices as they are and just create a new column called `Months:`\n",
    "- I would be interested in how they look as a graph for a visual understanding\n",
    "- NumPy automatically converts ints to floats with multiplication if needed not to lose information, just like in regular Python"
   ]
  }
 ],
 "metadata": {
  "kernelspec": {
   "display_name": "Python 3 (ipykernel)",
   "language": "python",
   "name": "python3"
  },
  "language_info": {
   "codemirror_mode": {
    "name": "ipython",
    "version": 3
   },
   "file_extension": ".py",
   "mimetype": "text/x-python",
   "name": "python",
   "nbconvert_exporter": "python",
   "pygments_lexer": "ipython3",
   "version": "3.10.8"
  }
 },
 "nbformat": 4,
 "nbformat_minor": 5
}
