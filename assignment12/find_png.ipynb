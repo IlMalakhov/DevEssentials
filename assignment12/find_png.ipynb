{
 "cells": [
  {
   "cell_type": "code",
   "execution_count": 1,
   "id": "cc3206c3-1bf7-4c38-adab-6cd47dd48a58",
   "metadata": {
    "tags": []
   },
   "outputs": [],
   "source": [
    "import requests"
   ]
  },
  {
   "cell_type": "code",
   "execution_count": 2,
   "id": "82ca2afb-4877-4903-98c3-126cc0d8e206",
   "metadata": {
    "tags": []
   },
   "outputs": [],
   "source": [
    "response = requests.get('https://gsom.spbu.ru/en/')"
   ]
  },
  {
   "cell_type": "markdown",
   "id": "aae91b17-2413-4d6e-a48c-270bcdc9600a",
   "metadata": {},
   "source": [
    "# Get html as string\n",
    "I started with `str(response.content)` but it seems like `response.text` does the same thing"
   ]
  },
  {
   "cell_type": "code",
   "execution_count": 3,
   "id": "346d7481-78c5-4aed-af8f-7812b0ea9798",
   "metadata": {
    "tags": []
   },
   "outputs": [],
   "source": [
    "html = response.text             # Convert response to string\n",
    "count_png = html.count('.png')   # Count .png occurences\n",
    "first_png = html.find('.png')    # Find the index of . from .png"
   ]
  },
  {
   "cell_type": "markdown",
   "id": "b7635df7-9fac-4692-b5cb-c602f4348024",
   "metadata": {},
   "source": [
    "# Using .rfind and .find to search in response string"
   ]
  },
  {
   "cell_type": "code",
   "execution_count": 4,
   "id": "ed1c971c-4293-4148-8011-83a7cd99f22d",
   "metadata": {
    "tags": []
   },
   "outputs": [
    {
     "data": {
      "text/plain": [
       "'/templates/gsom/img/favicon.png'"
      ]
     },
     "execution_count": 4,
     "metadata": {},
     "output_type": "execute_result"
    }
   ],
   "source": [
    "beginning_link = html.rfind('\"', 0, first_png)    # Returns the index of last quote from beginning to fisrt_png\n",
    "end_link = html.find('\"', beginning_link+1)       # Return the index of the next quote after the first one\n",
    "link_png = html[beginning_link+1:end_link]\n",
    "link_png"
   ]
  },
  {
   "cell_type": "code",
   "execution_count": 5,
   "id": "e59ca1b2-f0ea-40c2-83a4-ec4441ee0d5f",
   "metadata": {
    "tags": []
   },
   "outputs": [
    {
     "data": {
      "text/plain": [
       "'https://gsom.spbu.ru/templates/gsom/img/favicon.png'"
      ]
     },
     "execution_count": 5,
     "metadata": {},
     "output_type": "execute_result"
    }
   ],
   "source": [
    "gsom_subdomain = 'https://gsom.spbu.ru'\n",
    "full_url = gsom_subdomain + link_png\n",
    "full_url"
   ]
  },
  {
   "cell_type": "markdown",
   "id": "140b6fcb-94a6-4900-8f30-2429b02d4c4d",
   "metadata": {},
   "source": [
    "### Write to file"
   ]
  },
  {
   "cell_type": "code",
   "execution_count": 6,
   "id": "343fb0a8-7814-4bf1-9a77-97da25c808ce",
   "metadata": {
    "tags": []
   },
   "outputs": [],
   "source": [
    "gsom_favicon = requests.get(full_url)\n",
    "with open('gsom_favicon.png', 'wb') as f:     # Using write binary paraneter to deal with encoding\n",
    "    f.write(gsom_favicon.content)"
   ]
  },
  {
   "cell_type": "markdown",
   "id": "9fe0f164-4838-4266-a010-bd7697a5ba6b",
   "metadata": {},
   "source": [
    "# Conclusions:\n",
    "- I spent a lot of time trying to understand how to extract a link based on the index of `.png` until I found `.rfind` and `.find`\n",
    "- Had to `beginning_link+1` after realising that it doesn't return "
   ]
  }
 ],
 "metadata": {
  "kernelspec": {
   "display_name": "Python 3 (ipykernel)",
   "language": "python",
   "name": "python3"
  },
  "language_info": {
   "codemirror_mode": {
    "name": "ipython",
    "version": 3
   },
   "file_extension": ".py",
   "mimetype": "text/x-python",
   "name": "python",
   "nbconvert_exporter": "python",
   "pygments_lexer": "ipython3",
   "version": "3.10.8"
  }
 },
 "nbformat": 4,
 "nbformat_minor": 5
}
