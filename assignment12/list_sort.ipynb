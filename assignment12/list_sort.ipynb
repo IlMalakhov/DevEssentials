{
 "cells": [
  {
   "cell_type": "markdown",
   "id": "59602e3f-5916-4ca7-b24b-a5d170587705",
   "metadata": {},
   "source": [
    "# Defining a function `my_sort(list)`\n",
    "- Start from the second element# Start from the second element\n",
    "- Goes right to left from i-1 to the beginning of the listGoes right to left from i-1 to the beginning of the list\n",
    "- Swap places if left element is larger"
   ]
  },
  {
   "cell_type": "code",
   "execution_count": 1,
   "id": "4a4a5f3d-ed75-4164-83bd-ed8bf5058897",
   "metadata": {
    "tags": []
   },
   "outputs": [],
   "source": [
    "class Sorter:\n",
    "    def __init__(self, numbers):\n",
    "        self.numbers = numbers\n",
    "\n",
    "    def my_sort(self):\n",
    "        for i in range(1, len(self.numbers)):\n",
    "            for j in range(i-1, -1, -1):\n",
    "                if self.numbers[j] > self.numbers[j+1]:\n",
    "                    self.numbers[j], self.numbers[j+1] = self.numbers[j+1], self.numbers[j]\n",
    "                else:\n",
    "                    break\n",
    "        return self.numbers"
   ]
  },
  {
   "cell_type": "code",
   "execution_count": 2,
   "id": "dd7a538f-3710-41f7-a297-cd49342f6e0a",
   "metadata": {
    "tags": []
   },
   "outputs": [],
   "source": [
    "s1 = Sorter([4, 1 ,6, 5, 65, 123])\n",
    "s2 = Sorter([4, 1, 5, 2, 3, 4142, 124, 142, 4421, 44244, 4444224, 214234, 1234, 4432, 1234, 1234, 214, 44])"
   ]
  },
  {
   "cell_type": "code",
   "execution_count": 3,
   "id": "e0c39097-5b73-46b5-9408-5677c9e10bf9",
   "metadata": {
    "tags": []
   },
   "outputs": [
    {
     "data": {
      "text/plain": [
       "[1, 4, 5, 6, 65, 123]"
      ]
     },
     "execution_count": 3,
     "metadata": {},
     "output_type": "execute_result"
    }
   ],
   "source": [
    "s1.my_sort()"
   ]
  },
  {
   "cell_type": "code",
   "execution_count": 4,
   "id": "dcf310bd-f0c7-4f46-a0a6-260064376f24",
   "metadata": {
    "tags": []
   },
   "outputs": [
    {
     "data": {
      "text/plain": [
       "[1,\n",
       " 2,\n",
       " 3,\n",
       " 4,\n",
       " 5,\n",
       " 44,\n",
       " 124,\n",
       " 142,\n",
       " 214,\n",
       " 1234,\n",
       " 1234,\n",
       " 1234,\n",
       " 4142,\n",
       " 4421,\n",
       " 4432,\n",
       " 44244,\n",
       " 214234,\n",
       " 4444224]"
      ]
     },
     "execution_count": 4,
     "metadata": {},
     "output_type": "execute_result"
    }
   ],
   "source": [
    "s2.my_sort()"
   ]
  },
  {
   "cell_type": "markdown",
   "id": "f8c3f975-b9eb-4b33-83f6-d3e58a03db86",
   "metadata": {},
   "source": [
    "# Complexity (the worst case scenario)\n",
    "- For the 1st element - 0 comparisons (it’s the only element).\n",
    "- For the 2nd element - 1 comparison.\n",
    "- For the 3rd element - 2 comparisons.\n",
    "- For the 4th element - 3 comparisons.\n",
    "- It seems that for the `n`-th element if we were to keep going, there are `n−1` comparisons for each element `n`."
   ]
  },
  {
   "cell_type": "markdown",
   "id": "8e3d893a-3c1b-4779-bef6-8c3d74a47cf5",
   "metadata": {},
   "source": [
    "# Conclusions:\n",
    "- I think this sort could be okay for small or partially sorted lists\n",
    "- For larger lists I would not use this algorithm\n",
    "- I also had to look into cases where the list is already sorted, in that scenario this sort is adapting rather well (could be worse)"
   ]
  }
 ],
 "metadata": {
  "kernelspec": {
   "display_name": "Python 3 (ipykernel)",
   "language": "python",
   "name": "python3"
  },
  "language_info": {
   "codemirror_mode": {
    "name": "ipython",
    "version": 3
   },
   "file_extension": ".py",
   "mimetype": "text/x-python",
   "name": "python",
   "nbconvert_exporter": "python",
   "pygments_lexer": "ipython3",
   "version": "3.10.8"
  }
 },
 "nbformat": 4,
 "nbformat_minor": 5
}
