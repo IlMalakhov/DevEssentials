{
 "cells": [
  {
   "cell_type": "markdown",
   "id": "e087230e-27ca-4ae0-ba2a-b91732c61d20",
   "metadata": {},
   "source": [
    "# What is the time complexity"
   ]
  },
  {
   "cell_type": "markdown",
   "id": "172bcaca-6f0b-4036-909c-edef26877536",
   "metadata": {},
   "source": [
    "## First algorithm"
   ]
  },
  {
   "cell_type": "markdown",
   "id": "4ec441fa-1813-4978-ac79-f6e4dd35393d",
   "metadata": {},
   "source": [
    "```\n",
    "a = 0;\n",
    "for i in range(n):\n",
    "    for j in reversed(range(i,n)):\n",
    "        a = a + i + j\n",
    "        print(a)\n",
    "```"
   ]
  },
  {
   "cell_type": "markdown",
   "id": "26bacf36-61ca-4f23-ba2a-f80c34bd68b3",
   "metadata": {},
   "source": [
    "The runtime complexity is $O(n^2)$\n",
    "\n",
    "We have two loops, for each element in the first loop, the second loop traverses the whole list."
   ]
  },
  {
   "cell_type": "markdown",
   "id": "05c255d1-7e7c-4a12-abe8-335d7efa7987",
   "metadata": {},
   "source": [
    "## Second algorithm"
   ]
  },
  {
   "cell_type": "markdown",
   "id": "1795a042-2f14-4c31-b292-ae267af51327",
   "metadata": {},
   "source": [
    "```\n",
    "for i in range(n):\n",
    "    i*=2\n",
    "    print(i)\n",
    "```"
   ]
  },
  {
   "cell_type": "markdown",
   "id": "2921efc1-0a9f-4e18-a901-a36fdfd5b76b",
   "metadata": {},
   "source": [
    "The runtime complexity is $O(n)$\n",
    "\n",
    "One loop that executes an operation on _each_ element."
   ]
  },
  {
   "cell_type": "markdown",
   "id": "5617f496-00df-40e4-9023-23ea760fc0b3",
   "metadata": {},
   "source": [
    "## Third algorithm"
   ]
  },
  {
   "cell_type": "markdown",
   "id": "cedd1dd9-69df-4717-9c29-2f84f3625e08",
   "metadata": {},
   "source": [
    "```\n",
    "def algo(items):\n",
    "    print(min(x)+5)\n",
    "\n",
    "algo([4, 5, 6, 8, -5, 10, 12])\n",
    "```"
   ]
  },
  {
   "cell_type": "markdown",
   "id": "0ebf542e-17fe-4621-93f9-50843f01b352",
   "metadata": {},
   "source": [
    "The addition operation takes constant time $O(1)$ but the function `min()` most probably iterates over the whole list making `n` comparisons. Thus, the overall runtime complexity is $O(1) + O(n) = O(n)$"
   ]
  },
  {
   "cell_type": "markdown",
   "id": "4cef6dea-c0f5-43c0-af70-6f11a605f538",
   "metadata": {},
   "source": [
    "# Writing $O(n^3)$"
   ]
  },
  {
   "cell_type": "markdown",
   "id": "9eec28eb-5b4c-4cf3-be44-ee2796466182",
   "metadata": {},
   "source": [
    "```\n",
    "for i in list:\n",
    "    for j in list:\n",
    "        for k in list:\n",
    "            i = j + k\n",
    "```"
   ]
  },
  {
   "cell_type": "markdown",
   "id": "ad219819-2027-42ae-a264-4ee2499ceb61",
   "metadata": {},
   "source": [
    "$O(n^3)$ can be achieved with three loops one inside the other."
   ]
  }
 ],
 "metadata": {
  "kernelspec": {
   "display_name": "Python 3 (ipykernel)",
   "language": "python",
   "name": "python3"
  },
  "language_info": {
   "codemirror_mode": {
    "name": "ipython",
    "version": 3
   },
   "file_extension": ".py",
   "mimetype": "text/x-python",
   "name": "python",
   "nbconvert_exporter": "python",
   "pygments_lexer": "ipython3",
   "version": "3.10.8"
  }
 },
 "nbformat": 4,
 "nbformat_minor": 5
}
