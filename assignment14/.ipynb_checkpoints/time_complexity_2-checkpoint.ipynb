{
 "cells": [
  {
   "cell_type": "markdown",
   "id": "4b16d3df-a90f-4a27-9932-81a12e8a4d99",
   "metadata": {},
   "source": [
    "# What is the time complexity?"
   ]
  },
  {
   "cell_type": "markdown",
   "id": "4fa84a7c-b1e9-454e-b489-d10467e0f890",
   "metadata": {},
   "source": [
    "```\n",
    "for i in range(n):\n",
    "    i*=i  \n",
    "    if i>=n:\n",
    "        break\n",
    "\n",
    "```"
   ]
  },
  {
   "cell_type": "markdown",
   "id": "a8eb68db-b125-43ce-90e7-6c8181500521",
   "metadata": {},
   "source": [
    "The loop will break extremely quickly because $i$ grows exponentially. \n",
    "\n",
    "The input size $n$ doesn't really matter $-$ $O(1)$"
   ]
  },
  {
   "cell_type": "markdown",
   "id": "9c0ddb6d-999f-4d77-bf89-1c5f6b80b95b",
   "metadata": {},
   "source": [
    "```\n",
    "for i in range(n):\n",
    "    i=pow(2,i)  \n",
    "    if i>(n+1):\n",
    "        break\n",
    "```"
   ]
  },
  {
   "cell_type": "markdown",
   "id": "9207c034-d90c-4c7c-90b0-0f9d4b47a194",
   "metadata": {},
   "source": [
    "On each iteration $i$ is assigned to $2^i$\n",
    "\n",
    "Since we have to find the $i$ when loop breaks: $2^i>(n+1)$, then $i=log_2(n+1)$\n",
    "\n",
    "The time complexity is $O(log\\ n)$"
   ]
  },
  {
   "cell_type": "markdown",
   "id": "2f3786c3-8ec0-4be1-9898-0392c41369fc",
   "metadata": {
    "tags": []
   },
   "source": [
    "```\n",
    "def complex_method(n):\n",
    "    for i in range (n):\n",
    "        print (i,n)\n",
    "        if n>1:\n",
    "            complex_method(n-1)\n",
    "        else:\n",
    "            return True\n",
    "```"
   ]
  },
  {
   "cell_type": "markdown",
   "id": "926a1aba-e8e6-47c1-8e11-0098b371e764",
   "metadata": {},
   "source": [
    "For every iteration of the for loop, if $n > 1$, the function calls itself recursively with $n - 1$. \n",
    "\n",
    "This means that for every call with a given $n$, it spawns $n$ recursive calls with $n - 1$.\n",
    "\n",
    "Thus, the time complexity is $O(n^2)$"
   ]
  }
 ],
 "metadata": {
  "kernelspec": {
   "display_name": "Python 3 (ipykernel)",
   "language": "python",
   "name": "python3"
  },
  "language_info": {
   "codemirror_mode": {
    "name": "ipython",
    "version": 3
   },
   "file_extension": ".py",
   "mimetype": "text/x-python",
   "name": "python",
   "nbconvert_exporter": "python",
   "pygments_lexer": "ipython3",
   "version": "3.10.8"
  }
 },
 "nbformat": 4,
 "nbformat_minor": 5
}
