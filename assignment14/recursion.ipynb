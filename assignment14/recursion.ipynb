{
 "cells": [
  {
   "cell_type": "markdown",
   "id": "f32e8c62-687a-4c07-8d78-3b8afbb91c3e",
   "metadata": {},
   "source": [
    "# Recursion"
   ]
  },
  {
   "cell_type": "markdown",
   "id": "2ae3cd07-6d38-448f-8e10-b6ac93b4d2ef",
   "metadata": {},
   "source": [
    "## Sum of digits"
   ]
  },
  {
   "cell_type": "code",
   "execution_count": 1,
   "id": "75bce33e-5804-4e90-b23f-b615090bc59a",
   "metadata": {
    "tags": []
   },
   "outputs": [],
   "source": [
    "def digit_sum(n):\n",
    "    if n == 0:\n",
    "        return 0\n",
    "    else:\n",
    "        return (n % 10) + digit_sum(n // 10)"
   ]
  },
  {
   "cell_type": "code",
   "execution_count": 2,
   "id": "533848b6-8db5-47ca-9e42-46c010126923",
   "metadata": {
    "tags": []
   },
   "outputs": [
    {
     "data": {
      "text/plain": [
       "25"
      ]
     },
     "execution_count": 2,
     "metadata": {},
     "output_type": "execute_result"
    }
   ],
   "source": [
    "digit_sum(53872)"
   ]
  },
  {
   "cell_type": "markdown",
   "id": "0cc37336-1312-4805-af65-8ec74baa91ef",
   "metadata": {
    "tags": []
   },
   "source": [
    "`n % 10` takes the last digit of `n`\n",
    "\n",
    "We add this value to the `digit_sum(n // 10)` which is the `n` without the last digit.\n",
    "\n",
    "Once we have added all the values and `n % 10`. returns `0` we exit."
   ]
  },
  {
   "cell_type": "markdown",
   "id": "024ccb73-b47c-491d-a520-2b1cd4bd8142",
   "metadata": {},
   "source": [
    "## Sum of all numbers from 0 up to and including the given number"
   ]
  },
  {
   "cell_type": "code",
   "execution_count": 3,
   "id": "5fa3da68-337d-44ea-b8fa-8527caf76f39",
   "metadata": {
    "tags": []
   },
   "outputs": [],
   "source": [
    "def cumulative_sum(n):\n",
    "    if n == 0:\n",
    "        return 0\n",
    "    else:\n",
    "        return n + cumulative_sum(n-1)"
   ]
  },
  {
   "cell_type": "code",
   "execution_count": 4,
   "id": "c1682f36-14d3-4313-a627-08e4f5335172",
   "metadata": {
    "tags": []
   },
   "outputs": [
    {
     "data": {
      "text/plain": [
       "144991"
      ]
     },
     "execution_count": 4,
     "metadata": {},
     "output_type": "execute_result"
    }
   ],
   "source": [
    "cumulative_sum(538)"
   ]
  },
  {
   "cell_type": "markdown",
   "id": "8322296c-8605-471f-bfdb-199ebcad405d",
   "metadata": {},
   "source": [
    "We go from highest to lowest number when the `n` is not `0`.\n",
    "\n",
    "For example, from `538 + cumulative_sum(537)` all the way down to `n = 0` which stops the function."
   ]
  },
  {
   "cell_type": "markdown",
   "id": "693bf090-c703-4be3-a724-696788bc3126",
   "metadata": {},
   "source": [
    "## Fibonacci series"
   ]
  },
  {
   "cell_type": "code",
   "execution_count": 5,
   "id": "03093e2b-6540-46b5-a828-3e9977ad1e97",
   "metadata": {
    "tags": []
   },
   "outputs": [],
   "source": [
    "def fib(n):\n",
    "    if n == 0:\n",
    "        return 0\n",
    "    elif n == 1:\n",
    "        return 1\n",
    "    else:\n",
    "        return fib(n-1) + fib(n-2)"
   ]
  },
  {
   "cell_type": "code",
   "execution_count": 6,
   "id": "8b90edf9-a46f-44e1-8b88-87ced6cdd652",
   "metadata": {
    "tags": []
   },
   "outputs": [
    {
     "data": {
      "text/plain": [
       "14930352"
      ]
     },
     "execution_count": 6,
     "metadata": {},
     "output_type": "execute_result"
    }
   ],
   "source": [
    "fib(36)"
   ]
  },
  {
   "cell_type": "markdown",
   "id": "19b01fea-60b9-4ae1-b712-f4c6a7028161",
   "metadata": {},
   "source": [
    "Every time we use `fib(n)`, the function results in **two** more recursive calls `fib(n-1)` and `fib(n-2)`.\n",
    "\n",
    "This means the time complexity is $O(2^n)$"
   ]
  },
  {
   "cell_type": "markdown",
   "id": "670c8cda-2bfe-4c01-bdea-1b95cbd106ad",
   "metadata": {},
   "source": [
    "# Conclusions:\n",
    "- Defining **base cases** (when the function should stop executing) was crucial for my understanding of the structure of such functions\n",
    "- Likewise, writing out specific cases like `538 + cumulative_sum(537)` helped me understand what the output of the function should look like and what I need to do to achieve it"
   ]
  }
 ],
 "metadata": {
  "kernelspec": {
   "display_name": "Python 3 (ipykernel)",
   "language": "python",
   "name": "python3"
  },
  "language_info": {
   "codemirror_mode": {
    "name": "ipython",
    "version": 3
   },
   "file_extension": ".py",
   "mimetype": "text/x-python",
   "name": "python",
   "nbconvert_exporter": "python",
   "pygments_lexer": "ipython3",
   "version": "3.10.8"
  }
 },
 "nbformat": 4,
 "nbformat_minor": 5
}
