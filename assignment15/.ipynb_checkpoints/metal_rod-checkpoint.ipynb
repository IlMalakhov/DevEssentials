{
 "cells": [
  {
   "cell_type": "markdown",
   "id": "96333f5a-ac83-467b-9a88-1842179eb27e",
   "metadata": {
    "tags": []
   },
   "source": [
    "# Defining length and array of prices for testing purposes"
   ]
  },
  {
   "cell_type": "code",
   "execution_count": 1,
   "id": "b7d3a497-259b-445e-8b42-ab2b5dff094b",
   "metadata": {
    "tags": []
   },
   "outputs": [],
   "source": [
    "length = 5\n",
    "prices = [1, 2, 2, 4, 4]\n",
    "\n",
    "prices2 = [1, 5, 8, 9, 10, 17, 17, 20]\n",
    "length2 = 8"
   ]
  },
  {
   "cell_type": "markdown",
   "id": "5cadd049-992c-4ff4-a7c4-f588e4964056",
   "metadata": {},
   "source": [
    "# Writing the first function"
   ]
  },
  {
   "cell_type": "code",
   "execution_count": 2,
   "id": "3d542460-df9b-465b-ae0d-056621fcaf2e",
   "metadata": {},
   "outputs": [],
   "source": [
    "def badrodcut(prices, length):\n",
    "    \"\"\"\n",
    "    Solve the rod-cutting problem and be really bad at it.\n",
    "\n",
    "    :param prices: List of prices for each length\n",
    "    :param length: Number of possible rod segments\n",
    "    :return: Max revenue for a solution, List of recommended lengths to sell\n",
    "    \"\"\"\n",
    "\n",
    "    if length == 0:\n",
    "        return 0, []\n",
    "\n",
    "    revenue = 0\n",
    "    cuts = []\n",
    "\n",
    "    for l in range(1, length + 1):\n",
    "        # Recursion\n",
    "        current_revenue, current_cuts = badrodcut(prices, length - l)\n",
    "        total_revenue = prices[l - 1] + current_revenue\n",
    "\n",
    "        # Update the best revenue and cuts if we have a better solution\n",
    "        if total_revenue > revenue:\n",
    "            revenue = total_revenue\n",
    "            cuts = [l] + current_cuts\n",
    "\n",
    "    return revenue, cuts"
   ]
  },
  {
   "cell_type": "markdown",
   "id": "36b793c3-4002-40a6-a03e-2985ba598332",
   "metadata": {},
   "source": [
    "## Testing"
   ]
  },
  {
   "cell_type": "code",
   "execution_count": 3,
   "id": "1f737ff6-5c47-4850-94c0-dbe9a7656981",
   "metadata": {
    "tags": []
   },
   "outputs": [
    {
     "name": "stdout",
     "output_type": "stream",
     "text": [
      "Maximum revenue: 5\n",
      "Recommended lengths: [1, 1, 1, 1, 1]\n"
     ]
    }
   ],
   "source": [
    "max_revenue, recommended_lengths = badrodcut(prices, length)\n",
    "print(\"Maximum revenue:\", max_revenue)\n",
    "print(\"Recommended lengths:\", recommended_lengths)"
   ]
  },
  {
   "cell_type": "code",
   "execution_count": 4,
   "id": "af501d2e-7f6d-4f5c-8973-98b3a90bfb51",
   "metadata": {
    "tags": []
   },
   "outputs": [
    {
     "name": "stdout",
     "output_type": "stream",
     "text": [
      "Maximum revenue: 22\n",
      "Recommended lengths: [2, 6]\n"
     ]
    }
   ],
   "source": [
    "max_revenue, recommended_lengths = badrodcut(prices2, length2)\n",
    "print(\"Maximum revenue:\", max_revenue)\n",
    "print(\"Recommended lengths:\", recommended_lengths)"
   ]
  },
  {
   "cell_type": "markdown",
   "id": "4979b233-af94-48b2-89b3-ee53c23905bd",
   "metadata": {
    "tags": []
   },
   "source": [
    "## Time complexity"
   ]
  },
  {
   "cell_type": "markdown",
   "id": "8867a8b8-74c9-4839-9bda-d5cffc5e14b9",
   "metadata": {},
   "source": [
    "* This recursion algorithm has exponential time complexity $O(2^n)$\n",
    "* Each call to `badrodcut` generates two or more additional recursive calls\n",
    "* Very inefficient for large input sizes"
   ]
  },
  {
   "cell_type": "markdown",
   "id": "ac2a1980-1802-455a-99be-4560ef7c209a",
   "metadata": {},
   "source": [
    "# Writing the second function"
   ]
  },
  {
   "cell_type": "code",
   "execution_count": 5,
   "id": "2734b1b9-f732-45fc-b20e-4dd308e0220a",
   "metadata": {
    "tags": []
   },
   "outputs": [],
   "source": [
    "def betterrodcut(prices, length):\n",
    "    \"\"\"\n",
    "    Solve the rod-cutting problem using dynamic programming which I read up on.\n",
    "\n",
    "    :param prices: List of prices for each length\n",
    "    :param length: Number of possible rod segments\n",
    "    :return: Max revenue for a solution, List of recommended lengths to sell\n",
    "    \"\"\"\n",
    "\n",
    "    revenue = [0] * (length + 1)\n",
    "    first_cut = [0] * (length + 1)\n",
    "\n",
    "    for l in range(1, length + 1):\n",
    "        for cut in range(1, l + 1):\n",
    "            current_revenue = prices[cut - 1] + revenue[l - cut]\n",
    "            if current_revenue > revenue[l]:\n",
    "                revenue[l] = current_revenue\n",
    "                first_cut[l] = cut\n",
    "\n",
    "    cuts = []\n",
    "    while length > 0:\n",
    "        cuts.append(first_cut[length])\n",
    "        length -= first_cut[length]\n",
    "\n",
    "    return revenue[-1], cuts"
   ]
  },
  {
   "cell_type": "markdown",
   "id": "14492190-f033-4f2f-84d1-7b643bfe1ec6",
   "metadata": {
    "tags": []
   },
   "source": [
    "## Testing"
   ]
  },
  {
   "cell_type": "code",
   "execution_count": 6,
   "id": "27980ee3-0467-4ce1-a2c8-78af1d202f16",
   "metadata": {
    "tags": []
   },
   "outputs": [
    {
     "name": "stdout",
     "output_type": "stream",
     "text": [
      "Maximum revenue: 5\n",
      "Recommended lengths: [1, 1, 1, 1, 1]\n"
     ]
    }
   ],
   "source": [
    "max_revenue, recommended_lengths = betterrodcut(prices, length)\n",
    "print(\"Maximum revenue:\", max_revenue)\n",
    "print(\"Recommended lengths:\", recommended_lengths)\n"
   ]
  },
  {
   "cell_type": "code",
   "execution_count": 7,
   "id": "302c3d65-fe7c-425d-b779-aa545f6d57db",
   "metadata": {
    "tags": []
   },
   "outputs": [
    {
     "name": "stdout",
     "output_type": "stream",
     "text": [
      "Maximum revenue: 22\n",
      "Recommended lengths: [2, 6]\n"
     ]
    }
   ],
   "source": [
    "max_revenue, recommended_lengths = betterrodcut(prices2, length2)\n",
    "print(\"Maximum revenue:\", max_revenue)\n",
    "print(\"Recommended lengths:\", recommended_lengths)\n"
   ]
  },
  {
   "cell_type": "markdown",
   "id": "7e7a2274-1691-4958-8d6a-a1086431b47f",
   "metadata": {},
   "source": [
    "## Time complexity"
   ]
  },
  {
   "cell_type": "markdown",
   "id": "e55da7da-6298-4451-a658-0bffc5bb2d07",
   "metadata": {},
   "source": [
    "* This solution has a time complexity of $O(n^2)$\n",
    "* Not brute force\n",
    "* Same space complexity for storing values"
   ]
  },
  {
   "cell_type": "markdown",
   "id": "9e6a2175-dc00-4501-a6ba-4a2b14f6f034",
   "metadata": {},
   "source": [
    "# Conclusions\n",
    "* The first solution that came to my mind was a recursive one but it does a lot of redundant calculations\n",
    "* Overall, the problem was hard for me and a had to read up on algorithms and so on\n",
    "* Used **docstrings** for the first time, not that helpful for this specific function but a good habit to get into"
   ]
  },
  {
   "cell_type": "code",
   "execution_count": 8,
   "id": "aa9f5522-c3b4-49f5-8624-87354accce6f",
   "metadata": {
    "tags": []
   },
   "outputs": [
    {
     "name": "stdout",
     "output_type": "stream",
     "text": [
      "Help on function betterrodcut in module __main__:\n",
      "\n",
      "betterrodcut(prices, length)\n",
      "    Solve the rod-cutting problem using dynamic programming which I read up on.\n",
      "    \n",
      "    :param prices: List of prices for each length\n",
      "    :param length: Number of possible rod segments\n",
      "    :return: Max revenue for a solution, List of recommended lengths to sell\n",
      "\n"
     ]
    }
   ],
   "source": [
    "help(betterrodcut)"
   ]
  }
 ],
 "metadata": {
  "kernelspec": {
   "display_name": "Python 3 (ipykernel)",
   "language": "python",
   "name": "python3"
  },
  "language_info": {
   "codemirror_mode": {
    "name": "ipython",
    "version": 3
   },
   "file_extension": ".py",
   "mimetype": "text/x-python",
   "name": "python",
   "nbconvert_exporter": "python",
   "pygments_lexer": "ipython3",
   "version": "3.10.8"
  }
 },
 "nbformat": 4,
 "nbformat_minor": 5
}
