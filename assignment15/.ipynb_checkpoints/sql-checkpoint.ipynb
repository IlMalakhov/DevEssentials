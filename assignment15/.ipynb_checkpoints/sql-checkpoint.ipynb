{
 "cells": [
  {
   "cell_type": "code",
   "execution_count": 1,
   "id": "1533234c-6a1e-4b6d-a176-fbc4bab291c7",
   "metadata": {
    "tags": []
   },
   "outputs": [],
   "source": [
    "import os\n",
    "import json\n",
    "import psycopg2\n",
    "from psycopg2.extras import DictCursor"
   ]
  },
  {
   "cell_type": "code",
   "execution_count": 2,
   "id": "7fb1fd8e-eaf1-41e6-a853-7fada55bd646",
   "metadata": {
    "tags": []
   },
   "outputs": [],
   "source": [
    "POSTGRESQL_HOST = '10.129.0.25'"
   ]
  },
  {
   "cell_type": "code",
   "execution_count": 3,
   "id": "bc641d9d-2e1e-415e-868b-feda980244de",
   "metadata": {
    "tags": []
   },
   "outputs": [
    {
     "name": "stdout",
     "output_type": "stream",
     "text": [
      "POSTGRESQL_USER=reader\n",
      "POSTGRESQL_PASSWORD=Miba2021\n"
     ]
    }
   ],
   "source": [
    "!env | grep POST"
   ]
  },
  {
   "cell_type": "markdown",
   "id": "400f2e74-7993-48dd-a886-8d526f6e0e67",
   "metadata": {},
   "source": [
    "# Manual option"
   ]
  },
  {
   "cell_type": "code",
   "execution_count": 4,
   "id": "82bb1293-e229-4fa6-a972-00ffe1a1df77",
   "metadata": {
    "tags": []
   },
   "outputs": [],
   "source": [
    "conn = psycopg2.connect(\n",
    "    dbname='demo', \n",
    "    user=os.environ['POSTGRESQL_USER'],\n",
    "    password=os.environ['POSTGRESQL_PASSWORD'], \n",
    "    host=POSTGRESQL_HOST\n",
    ")\n",
    "cur = conn.cursor()"
   ]
  },
  {
   "cell_type": "code",
   "execution_count": 5,
   "id": "5c1cc393-fb58-4cba-9b56-1ccb3e809297",
   "metadata": {
    "tags": []
   },
   "outputs": [],
   "source": [
    "query = 'SELECT * FROM seats LIMIT 10'"
   ]
  },
  {
   "cell_type": "code",
   "execution_count": 6,
   "id": "ac2bbc29-dccb-4280-99c2-c211b39d5332",
   "metadata": {
    "tags": []
   },
   "outputs": [],
   "source": [
    "cur.execute(query)\n",
    "records = cur.fetchall()\n",
    "cur.close()\n",
    "conn.close()"
   ]
  },
  {
   "cell_type": "code",
   "execution_count": 7,
   "id": "4a5a6d27-b262-47d2-beed-bfd207d06d49",
   "metadata": {
    "tags": []
   },
   "outputs": [
    {
     "data": {
      "text/plain": [
       "[('319', '2A', 'Business'),\n",
       " ('319', '2C', 'Business'),\n",
       " ('319', '2D', 'Business'),\n",
       " ('319', '2F', 'Business'),\n",
       " ('319', '3A', 'Business'),\n",
       " ('319', '3C', 'Business'),\n",
       " ('319', '3D', 'Business'),\n",
       " ('319', '3F', 'Business'),\n",
       " ('319', '4A', 'Business'),\n",
       " ('319', '4C', 'Business')]"
      ]
     },
     "execution_count": 7,
     "metadata": {},
     "output_type": "execute_result"
    }
   ],
   "source": [
    "records"
   ]
  },
  {
   "cell_type": "markdown",
   "id": "f1896953-8cc3-4b2d-967c-138d3d695479",
   "metadata": {},
   "source": [
    "# `with` context manager"
   ]
  },
  {
   "cell_type": "code",
   "execution_count": 8,
   "id": "f66cc154-3ab1-45b5-9972-5c8ed76faa0a",
   "metadata": {
    "tags": []
   },
   "outputs": [],
   "source": [
    "with psycopg2.connect(\n",
    "    dbname='demo', \n",
    "    user=os.environ['POSTGRESQL_USER'],\n",
    "    password=os.environ['POSTGRESQL_PASSWORD'], \n",
    "    host=POSTGRESQL_HOST\n",
    ") as conn:\n",
    "    with conn.cursor() as cur:\n",
    "        cur.execute('SELECT * FROM seats LIMIT 5')\n",
    "        records = cur.fetchall()"
   ]
  },
  {
   "cell_type": "code",
   "execution_count": 9,
   "id": "7379db45-2c1f-4277-b82b-c051f98dffea",
   "metadata": {
    "tags": []
   },
   "outputs": [
    {
     "data": {
      "text/plain": [
       "[('319', '2A', 'Business'),\n",
       " ('319', '2C', 'Business'),\n",
       " ('319', '2D', 'Business'),\n",
       " ('319', '2F', 'Business'),\n",
       " ('319', '3A', 'Business')]"
      ]
     },
     "execution_count": 9,
     "metadata": {},
     "output_type": "execute_result"
    }
   ],
   "source": [
    "records"
   ]
  },
  {
   "cell_type": "markdown",
   "id": "467a2b3a-2955-43bc-9841-2fdf8d90e261",
   "metadata": {},
   "source": [
    "# Find out who flew and where"
   ]
  },
  {
   "cell_type": "markdown",
   "id": "ada98659-4567-45f4-8ce9-9fda7f42b0d8",
   "metadata": {},
   "source": [
    "## Who"
   ]
  },
  {
   "cell_type": "code",
   "execution_count": 10,
   "id": "68a8fa2d-0b36-4f4b-ab43-8c89ef216e12",
   "metadata": {
    "tags": []
   },
   "outputs": [],
   "source": [
    "with psycopg2.connect(\n",
    "    dbname='demo', \n",
    "    user=os.environ['POSTGRESQL_USER'],\n",
    "    password=os.environ['POSTGRESQL_PASSWORD'], \n",
    "    host=POSTGRESQL_HOST\n",
    ") as conn:\n",
    "    with conn.cursor() as cur:\n",
    "        cur.execute(\"SELECT passenger_id, passenger_name FROM Tickets WHERE ticket_no = '0005432312164'\")\n",
    "        passenger = cur.fetchall()\n",
    "\n"
   ]
  },
  {
   "cell_type": "code",
   "execution_count": 11,
   "id": "553cc6a9-a0c5-4403-8d55-7dd51f6a4434",
   "metadata": {
    "tags": []
   },
   "outputs": [
    {
     "data": {
      "text/plain": [
       "[('0423 646487', 'ALEKSEY GERASIMOV')]"
      ]
     },
     "execution_count": 11,
     "metadata": {},
     "output_type": "execute_result"
    }
   ],
   "source": [
    "passenger"
   ]
  },
  {
   "cell_type": "markdown",
   "id": "88b5e2ef-577f-4d0e-a066-fa8d86dbd549",
   "metadata": {
    "tags": []
   },
   "source": [
    "## Where"
   ]
  },
  {
   "cell_type": "code",
   "execution_count": 12,
   "id": "5c41d7d3-73a7-482a-8fbd-846b92088302",
   "metadata": {
    "tags": []
   },
   "outputs": [],
   "source": [
    "with psycopg2.connect(\n",
    "    dbname='demo', \n",
    "    user=os.environ['POSTGRESQL_USER'],\n",
    "    password=os.environ['POSTGRESQL_PASSWORD'], \n",
    "    host=POSTGRESQL_HOST\n",
    ") as conn:\n",
    "    with conn.cursor() as cur:\n",
    "        cur.execute(\"SELECT flight_id FROM Ticket_flights WHERE ticket_no = '0005432312164'\")\n",
    "        flight = cur.fetchall()"
   ]
  },
  {
   "cell_type": "code",
   "execution_count": 13,
   "id": "8775de3b-d50a-4b25-80d4-0ae1871f682b",
   "metadata": {
    "tags": []
   },
   "outputs": [
    {
     "data": {
      "text/plain": [
       "[(19976,), (136916,), (202076,), (202563,)]"
      ]
     },
     "execution_count": 13,
     "metadata": {},
     "output_type": "execute_result"
    }
   ],
   "source": [
    "flight"
   ]
  },
  {
   "cell_type": "code",
   "execution_count": 14,
   "id": "892ce031-011a-4ea3-9ff4-0c1eb97996e7",
   "metadata": {
    "tags": []
   },
   "outputs": [],
   "source": [
    "with psycopg2.connect(\n",
    "    dbname='demo', \n",
    "    user=os.environ['POSTGRESQL_USER'],\n",
    "    password=os.environ['POSTGRESQL_PASSWORD'], \n",
    "    host=POSTGRESQL_HOST\n",
    ") as conn:\n",
    "    with conn.cursor() as cur:\n",
    "        cur.execute(\"SELECT departure_airport, arrival_airport FROM Flights WHERE flight_id = '19976' OR flight_id = '136916' OR flight_id = '202076' OR flight_id = '202563' ORDER BY scheduled_arrival ASC\")\n",
    "        airport = cur.fetchall()"
   ]
  },
  {
   "cell_type": "code",
   "execution_count": 15,
   "id": "28123453-e312-4f66-8dc2-9720c8ae9e3d",
   "metadata": {
    "tags": []
   },
   "outputs": [
    {
     "data": {
      "text/plain": [
       "[('DME', 'EGO'), ('EGO', 'AAQ'), ('AAQ', 'EGO'), ('EGO', 'DME')]"
      ]
     },
     "execution_count": 15,
     "metadata": {},
     "output_type": "execute_result"
    }
   ],
   "source": [
    "airport"
   ]
  },
  {
   "cell_type": "markdown",
   "id": "65146f4d-3cf4-42df-9f16-0773432fcdf6",
   "metadata": {},
   "source": [
    "# Conclusions\n",
    "* The second connection option seems more convinient for me\n",
    "* Not sure why there 4 `flight_id`s associated with the `ticket_no`\n",
    "* The `ORDER BY` keyword with `ASC` really helped me understand the pattern (this is a ticket with many **connecting** flights)"
   ]
  }
 ],
 "metadata": {
  "kernelspec": {
   "display_name": "Python 3 (ipykernel)",
   "language": "python",
   "name": "python3"
  },
  "language_info": {
   "codemirror_mode": {
    "name": "ipython",
    "version": 3
   },
   "file_extension": ".py",
   "mimetype": "text/x-python",
   "name": "python",
   "nbconvert_exporter": "python",
   "pygments_lexer": "ipython3",
   "version": "3.10.8"
  }
 },
 "nbformat": 4,
 "nbformat_minor": 5
}
